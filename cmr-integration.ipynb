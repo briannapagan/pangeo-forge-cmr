{
 "cells": [
  {
   "cell_type": "code",
   "execution_count": 86,
   "id": "67b77883",
   "metadata": {},
   "outputs": [],
   "source": [
    "#pip install python-cmr\n",
    "from datetime import datetime\n",
    "from cmr import CollectionQuery, GranuleQuery, ToolQuery, ServiceQuery, VariableQuery\n",
    "import pandas as pd\n",
    "import logging\n",
    "from pangeo_forge_recipes.patterns import ConcatDim, FilePattern\n",
    "from pangeo_forge_recipes.recipes import XarrayZarrRecipe\n",
    "import numpy as np"
   ]
  },
  {
   "cell_type": "markdown",
   "id": "89da4f46",
   "metadata": {},
   "source": [
    "### Use collection shortname to query all granules"
   ]
  },
  {
   "cell_type": "code",
   "execution_count": 87,
   "id": "1121e0d9",
   "metadata": {},
   "outputs": [
    {
     "name": "stdout",
     "output_type": "stream",
     "text": [
      "number of granules: 390458\n"
     ]
    }
   ],
   "source": [
    "collection_shortname = [\"GPM_3IMERGHHL\"]\n",
    "api_granule = GranuleQuery()\n",
    "api_granule.parameters(\n",
    "    short_name=collection_shortname,\n",
    ")\n",
    "print('number of granules: ' + str(api_granule.hits()))\n"
   ]
  },
  {
   "cell_type": "markdown",
   "id": "0ea84dcb",
   "metadata": {},
   "source": [
    "### Check to see how many granules are downloadable and only use those"
   ]
  },
  {
   "cell_type": "code",
   "execution_count": 88,
   "id": "d1ff878d",
   "metadata": {},
   "outputs": [
    {
     "name": "stdout",
     "output_type": "stream",
     "text": [
      "number of downloadable granules: 390458\n"
     ]
    }
   ],
   "source": [
    "api_granule_downloadable = api_granule.downloadable()\n",
    "print('number of downloadable granules: ' + str(api_granule_downloadable.hits()))"
   ]
  },
  {
   "cell_type": "markdown",
   "id": "7820ad52",
   "metadata": {},
   "source": [
    "### Query downloadable granules"
   ]
  },
  {
   "cell_type": "code",
   "execution_count": 89,
   "id": "5f65c47d",
   "metadata": {},
   "outputs": [],
   "source": [
    "# retrieve only a few for testing:\n",
    "granules = api_granule.get(100)\n",
    "\n",
    "# retrieve all (can take awhile...)\n",
    "#granules = api_granule.get_all()"
   ]
  },
  {
   "cell_type": "markdown",
   "id": "514e8c02",
   "metadata": {},
   "source": [
    "### Extract reference URLs\n",
    "Need to double check my own test for 'rel' to find the correct 'href'.  "
   ]
  },
  {
   "cell_type": "code",
   "execution_count": 90,
   "id": "ebf50b3e",
   "metadata": {},
   "outputs": [
    {
     "name": "stdout",
     "output_type": "stream",
     "text": [
      "adding url: https://data.gesdisc.earthdata.nasa.gov/data/GPM_L3/GPM_3IMERGHHL.06/2000/153/3B-HHR-L.MS.MRG.3IMERG.20000601-S000000-E002959.0000.V06B.HDF5\n",
      "adding url: https://data.gesdisc.earthdata.nasa.gov/data/GPM_L3/GPM_3IMERGHHL.06/2000/153/3B-HHR-L.MS.MRG.3IMERG.20000601-S003000-E005959.0030.V06B.HDF5\n",
      "adding url: https://data.gesdisc.earthdata.nasa.gov/data/GPM_L3/GPM_3IMERGHHL.06/2000/153/3B-HHR-L.MS.MRG.3IMERG.20000601-S010000-E012959.0060.V06B.HDF5\n",
      "adding url: https://data.gesdisc.earthdata.nasa.gov/data/GPM_L3/GPM_3IMERGHHL.06/2000/153/3B-HHR-L.MS.MRG.3IMERG.20000601-S013000-E015959.0090.V06B.HDF5\n",
      "adding url: https://data.gesdisc.earthdata.nasa.gov/data/GPM_L3/GPM_3IMERGHHL.06/2000/153/3B-HHR-L.MS.MRG.3IMERG.20000601-S020000-E022959.0120.V06B.HDF5\n",
      "adding url: https://data.gesdisc.earthdata.nasa.gov/data/GPM_L3/GPM_3IMERGHHL.06/2000/153/3B-HHR-L.MS.MRG.3IMERG.20000601-S023000-E025959.0150.V06B.HDF5\n",
      "adding url: https://data.gesdisc.earthdata.nasa.gov/data/GPM_L3/GPM_3IMERGHHL.06/2000/153/3B-HHR-L.MS.MRG.3IMERG.20000601-S030000-E032959.0180.V06B.HDF5\n",
      "adding url: https://data.gesdisc.earthdata.nasa.gov/data/GPM_L3/GPM_3IMERGHHL.06/2000/153/3B-HHR-L.MS.MRG.3IMERG.20000601-S033000-E035959.0210.V06B.HDF5\n",
      "adding url: https://data.gesdisc.earthdata.nasa.gov/data/GPM_L3/GPM_3IMERGHHL.06/2000/153/3B-HHR-L.MS.MRG.3IMERG.20000601-S040000-E042959.0240.V06B.HDF5\n",
      "adding url: https://data.gesdisc.earthdata.nasa.gov/data/GPM_L3/GPM_3IMERGHHL.06/2000/153/3B-HHR-L.MS.MRG.3IMERG.20000601-S043000-E045959.0270.V06B.HDF5\n",
      "adding url: https://gpm1.gesdisc.eosdis.nasa.gov/data/GPM_L3/GPM_3IMERGHHL.06/2000/153/3B-HHR-L.MS.MRG.3IMERG.20000601-S050000-E052959.0300.V06B.HDF5\n",
      "adding url: https://gpm1.gesdisc.eosdis.nasa.gov/data/GPM_L3/GPM_3IMERGHHL.06/2000/153/3B-HHR-L.MS.MRG.3IMERG.20000601-S053000-E055959.0330.V06B.HDF5\n",
      "adding url: https://gpm1.gesdisc.eosdis.nasa.gov/data/GPM_L3/GPM_3IMERGHHL.06/2000/153/3B-HHR-L.MS.MRG.3IMERG.20000601-S060000-E062959.0360.V06B.HDF5\n",
      "adding url: https://gpm1.gesdisc.eosdis.nasa.gov/data/GPM_L3/GPM_3IMERGHHL.06/2000/153/3B-HHR-L.MS.MRG.3IMERG.20000601-S063000-E065959.0390.V06B.HDF5\n",
      "adding url: https://gpm1.gesdisc.eosdis.nasa.gov/data/GPM_L3/GPM_3IMERGHHL.06/2000/153/3B-HHR-L.MS.MRG.3IMERG.20000601-S070000-E072959.0420.V06B.HDF5\n",
      "adding url: https://gpm1.gesdisc.eosdis.nasa.gov/data/GPM_L3/GPM_3IMERGHHL.06/2000/153/3B-HHR-L.MS.MRG.3IMERG.20000601-S073000-E075959.0450.V06B.HDF5\n",
      "adding url: https://gpm1.gesdisc.eosdis.nasa.gov/data/GPM_L3/GPM_3IMERGHHL.06/2000/153/3B-HHR-L.MS.MRG.3IMERG.20000601-S080000-E082959.0480.V06B.HDF5\n",
      "adding url: https://gpm1.gesdisc.eosdis.nasa.gov/data/GPM_L3/GPM_3IMERGHHL.06/2000/153/3B-HHR-L.MS.MRG.3IMERG.20000601-S083000-E085959.0510.V06B.HDF5\n",
      "adding url: https://gpm1.gesdisc.eosdis.nasa.gov/data/GPM_L3/GPM_3IMERGHHL.06/2000/153/3B-HHR-L.MS.MRG.3IMERG.20000601-S090000-E092959.0540.V06B.HDF5\n",
      "adding url: https://gpm1.gesdisc.eosdis.nasa.gov/data/GPM_L3/GPM_3IMERGHHL.06/2000/153/3B-HHR-L.MS.MRG.3IMERG.20000601-S093000-E095959.0570.V06B.HDF5\n",
      "adding url: https://gpm1.gesdisc.eosdis.nasa.gov/data/GPM_L3/GPM_3IMERGHHL.06/2000/153/3B-HHR-L.MS.MRG.3IMERG.20000601-S100000-E102959.0600.V06B.HDF5\n",
      "adding url: https://gpm1.gesdisc.eosdis.nasa.gov/data/GPM_L3/GPM_3IMERGHHL.06/2000/153/3B-HHR-L.MS.MRG.3IMERG.20000601-S103000-E105959.0630.V06B.HDF5\n",
      "adding url: https://gpm1.gesdisc.eosdis.nasa.gov/data/GPM_L3/GPM_3IMERGHHL.06/2000/153/3B-HHR-L.MS.MRG.3IMERG.20000601-S110000-E112959.0660.V06B.HDF5\n",
      "adding url: https://gpm1.gesdisc.eosdis.nasa.gov/data/GPM_L3/GPM_3IMERGHHL.06/2000/153/3B-HHR-L.MS.MRG.3IMERG.20000601-S113000-E115959.0690.V06B.HDF5\n",
      "adding url: https://gpm1.gesdisc.eosdis.nasa.gov/data/GPM_L3/GPM_3IMERGHHL.06/2000/153/3B-HHR-L.MS.MRG.3IMERG.20000601-S120000-E122959.0720.V06B.HDF5\n",
      "adding url: https://gpm1.gesdisc.eosdis.nasa.gov/data/GPM_L3/GPM_3IMERGHHL.06/2000/153/3B-HHR-L.MS.MRG.3IMERG.20000601-S123000-E125959.0750.V06B.HDF5\n",
      "adding url: https://gpm1.gesdisc.eosdis.nasa.gov/data/GPM_L3/GPM_3IMERGHHL.06/2000/153/3B-HHR-L.MS.MRG.3IMERG.20000601-S130000-E132959.0780.V06B.HDF5\n",
      "adding url: https://gpm1.gesdisc.eosdis.nasa.gov/data/GPM_L3/GPM_3IMERGHHL.06/2000/153/3B-HHR-L.MS.MRG.3IMERG.20000601-S133000-E135959.0810.V06B.HDF5\n",
      "adding url: https://gpm1.gesdisc.eosdis.nasa.gov/data/GPM_L3/GPM_3IMERGHHL.06/2000/153/3B-HHR-L.MS.MRG.3IMERG.20000601-S140000-E142959.0840.V06B.HDF5\n",
      "adding url: https://gpm1.gesdisc.eosdis.nasa.gov/data/GPM_L3/GPM_3IMERGHHL.06/2000/153/3B-HHR-L.MS.MRG.3IMERG.20000601-S143000-E145959.0870.V06B.HDF5\n",
      "adding url: https://gpm1.gesdisc.eosdis.nasa.gov/data/GPM_L3/GPM_3IMERGHHL.06/2000/153/3B-HHR-L.MS.MRG.3IMERG.20000601-S150000-E152959.0900.V06B.HDF5\n",
      "adding url: https://gpm1.gesdisc.eosdis.nasa.gov/data/GPM_L3/GPM_3IMERGHHL.06/2000/153/3B-HHR-L.MS.MRG.3IMERG.20000601-S153000-E155959.0930.V06B.HDF5\n",
      "adding url: https://gpm1.gesdisc.eosdis.nasa.gov/data/GPM_L3/GPM_3IMERGHHL.06/2000/153/3B-HHR-L.MS.MRG.3IMERG.20000601-S160000-E162959.0960.V06B.HDF5\n",
      "adding url: https://gpm1.gesdisc.eosdis.nasa.gov/data/GPM_L3/GPM_3IMERGHHL.06/2000/153/3B-HHR-L.MS.MRG.3IMERG.20000601-S163000-E165959.0990.V06B.HDF5\n",
      "adding url: https://gpm1.gesdisc.eosdis.nasa.gov/data/GPM_L3/GPM_3IMERGHHL.06/2000/153/3B-HHR-L.MS.MRG.3IMERG.20000601-S170000-E172959.1020.V06B.HDF5\n",
      "adding url: https://gpm1.gesdisc.eosdis.nasa.gov/data/GPM_L3/GPM_3IMERGHHL.06/2000/153/3B-HHR-L.MS.MRG.3IMERG.20000601-S173000-E175959.1050.V06B.HDF5\n",
      "adding url: https://gpm1.gesdisc.eosdis.nasa.gov/data/GPM_L3/GPM_3IMERGHHL.06/2000/153/3B-HHR-L.MS.MRG.3IMERG.20000601-S180000-E182959.1080.V06B.HDF5\n",
      "adding url: https://gpm1.gesdisc.eosdis.nasa.gov/data/GPM_L3/GPM_3IMERGHHL.06/2000/153/3B-HHR-L.MS.MRG.3IMERG.20000601-S183000-E185959.1110.V06B.HDF5\n",
      "adding url: https://gpm1.gesdisc.eosdis.nasa.gov/data/GPM_L3/GPM_3IMERGHHL.06/2000/153/3B-HHR-L.MS.MRG.3IMERG.20000601-S190000-E192959.1140.V06B.HDF5\n",
      "adding url: https://gpm1.gesdisc.eosdis.nasa.gov/data/GPM_L3/GPM_3IMERGHHL.06/2000/153/3B-HHR-L.MS.MRG.3IMERG.20000601-S193000-E195959.1170.V06B.HDF5\n",
      "adding url: https://gpm1.gesdisc.eosdis.nasa.gov/data/GPM_L3/GPM_3IMERGHHL.06/2000/153/3B-HHR-L.MS.MRG.3IMERG.20000601-S200000-E202959.1200.V06B.HDF5\n",
      "adding url: https://gpm1.gesdisc.eosdis.nasa.gov/data/GPM_L3/GPM_3IMERGHHL.06/2000/153/3B-HHR-L.MS.MRG.3IMERG.20000601-S203000-E205959.1230.V06B.HDF5\n",
      "adding url: https://gpm1.gesdisc.eosdis.nasa.gov/data/GPM_L3/GPM_3IMERGHHL.06/2000/153/3B-HHR-L.MS.MRG.3IMERG.20000601-S210000-E212959.1260.V06B.HDF5\n",
      "adding url: https://gpm1.gesdisc.eosdis.nasa.gov/data/GPM_L3/GPM_3IMERGHHL.06/2000/153/3B-HHR-L.MS.MRG.3IMERG.20000601-S213000-E215959.1290.V06B.HDF5\n",
      "adding url: https://gpm1.gesdisc.eosdis.nasa.gov/data/GPM_L3/GPM_3IMERGHHL.06/2000/153/3B-HHR-L.MS.MRG.3IMERG.20000601-S220000-E222959.1320.V06B.HDF5\n",
      "adding url: https://gpm1.gesdisc.eosdis.nasa.gov/data/GPM_L3/GPM_3IMERGHHL.06/2000/153/3B-HHR-L.MS.MRG.3IMERG.20000601-S223000-E225959.1350.V06B.HDF5\n",
      "adding url: https://gpm1.gesdisc.eosdis.nasa.gov/data/GPM_L3/GPM_3IMERGHHL.06/2000/153/3B-HHR-L.MS.MRG.3IMERG.20000601-S230000-E232959.1380.V06B.HDF5\n",
      "adding url: https://gpm1.gesdisc.eosdis.nasa.gov/data/GPM_L3/GPM_3IMERGHHL.06/2000/153/3B-HHR-L.MS.MRG.3IMERG.20000601-S233000-E235959.1410.V06B.HDF5\n",
      "adding url: https://gpm1.gesdisc.eosdis.nasa.gov/data/GPM_L3/GPM_3IMERGHHL.06/2000/154/3B-HHR-L.MS.MRG.3IMERG.20000602-S000000-E002959.0000.V06B.HDF5\n",
      "adding url: https://gpm1.gesdisc.eosdis.nasa.gov/data/GPM_L3/GPM_3IMERGHHL.06/2000/154/3B-HHR-L.MS.MRG.3IMERG.20000602-S003000-E005959.0030.V06B.HDF5\n",
      "adding url: https://gpm1.gesdisc.eosdis.nasa.gov/data/GPM_L3/GPM_3IMERGHHL.06/2000/154/3B-HHR-L.MS.MRG.3IMERG.20000602-S010000-E012959.0060.V06B.HDF5\n",
      "adding url: https://gpm1.gesdisc.eosdis.nasa.gov/data/GPM_L3/GPM_3IMERGHHL.06/2000/154/3B-HHR-L.MS.MRG.3IMERG.20000602-S013000-E015959.0090.V06B.HDF5\n",
      "adding url: https://gpm1.gesdisc.eosdis.nasa.gov/data/GPM_L3/GPM_3IMERGHHL.06/2000/154/3B-HHR-L.MS.MRG.3IMERG.20000602-S020000-E022959.0120.V06B.HDF5\n",
      "adding url: https://gpm1.gesdisc.eosdis.nasa.gov/data/GPM_L3/GPM_3IMERGHHL.06/2000/154/3B-HHR-L.MS.MRG.3IMERG.20000602-S023000-E025959.0150.V06B.HDF5\n",
      "adding url: https://gpm1.gesdisc.eosdis.nasa.gov/data/GPM_L3/GPM_3IMERGHHL.06/2000/154/3B-HHR-L.MS.MRG.3IMERG.20000602-S030000-E032959.0180.V06B.HDF5\n",
      "adding url: https://gpm1.gesdisc.eosdis.nasa.gov/data/GPM_L3/GPM_3IMERGHHL.06/2000/154/3B-HHR-L.MS.MRG.3IMERG.20000602-S033000-E035959.0210.V06B.HDF5\n",
      "adding url: https://gpm1.gesdisc.eosdis.nasa.gov/data/GPM_L3/GPM_3IMERGHHL.06/2000/154/3B-HHR-L.MS.MRG.3IMERG.20000602-S040000-E042959.0240.V06B.HDF5\n",
      "adding url: https://gpm1.gesdisc.eosdis.nasa.gov/data/GPM_L3/GPM_3IMERGHHL.06/2000/154/3B-HHR-L.MS.MRG.3IMERG.20000602-S043000-E045959.0270.V06B.HDF5\n",
      "adding url: https://gpm1.gesdisc.eosdis.nasa.gov/data/GPM_L3/GPM_3IMERGHHL.06/2000/154/3B-HHR-L.MS.MRG.3IMERG.20000602-S050000-E052959.0300.V06B.HDF5\n",
      "adding url: https://gpm1.gesdisc.eosdis.nasa.gov/data/GPM_L3/GPM_3IMERGHHL.06/2000/154/3B-HHR-L.MS.MRG.3IMERG.20000602-S053000-E055959.0330.V06B.HDF5\n",
      "adding url: https://gpm1.gesdisc.eosdis.nasa.gov/data/GPM_L3/GPM_3IMERGHHL.06/2000/154/3B-HHR-L.MS.MRG.3IMERG.20000602-S060000-E062959.0360.V06B.HDF5\n",
      "adding url: https://gpm1.gesdisc.eosdis.nasa.gov/data/GPM_L3/GPM_3IMERGHHL.06/2000/154/3B-HHR-L.MS.MRG.3IMERG.20000602-S063000-E065959.0390.V06B.HDF5\n",
      "adding url: https://gpm1.gesdisc.eosdis.nasa.gov/data/GPM_L3/GPM_3IMERGHHL.06/2000/154/3B-HHR-L.MS.MRG.3IMERG.20000602-S070000-E072959.0420.V06B.HDF5\n",
      "adding url: https://gpm1.gesdisc.eosdis.nasa.gov/data/GPM_L3/GPM_3IMERGHHL.06/2000/154/3B-HHR-L.MS.MRG.3IMERG.20000602-S073000-E075959.0450.V06B.HDF5\n",
      "adding url: https://gpm1.gesdisc.eosdis.nasa.gov/data/GPM_L3/GPM_3IMERGHHL.06/2000/154/3B-HHR-L.MS.MRG.3IMERG.20000602-S080000-E082959.0480.V06B.HDF5\n",
      "adding url: https://gpm1.gesdisc.eosdis.nasa.gov/data/GPM_L3/GPM_3IMERGHHL.06/2000/154/3B-HHR-L.MS.MRG.3IMERG.20000602-S083000-E085959.0510.V06B.HDF5\n",
      "adding url: https://gpm1.gesdisc.eosdis.nasa.gov/data/GPM_L3/GPM_3IMERGHHL.06/2000/154/3B-HHR-L.MS.MRG.3IMERG.20000602-S090000-E092959.0540.V06B.HDF5\n",
      "adding url: https://gpm1.gesdisc.eosdis.nasa.gov/data/GPM_L3/GPM_3IMERGHHL.06/2000/154/3B-HHR-L.MS.MRG.3IMERG.20000602-S093000-E095959.0570.V06B.HDF5\n",
      "adding url: https://gpm1.gesdisc.eosdis.nasa.gov/data/GPM_L3/GPM_3IMERGHHL.06/2000/154/3B-HHR-L.MS.MRG.3IMERG.20000602-S100000-E102959.0600.V06B.HDF5\n",
      "adding url: https://gpm1.gesdisc.eosdis.nasa.gov/data/GPM_L3/GPM_3IMERGHHL.06/2000/154/3B-HHR-L.MS.MRG.3IMERG.20000602-S103000-E105959.0630.V06B.HDF5\n",
      "adding url: https://gpm1.gesdisc.eosdis.nasa.gov/data/GPM_L3/GPM_3IMERGHHL.06/2000/154/3B-HHR-L.MS.MRG.3IMERG.20000602-S110000-E112959.0660.V06B.HDF5\n",
      "adding url: https://gpm1.gesdisc.eosdis.nasa.gov/data/GPM_L3/GPM_3IMERGHHL.06/2000/154/3B-HHR-L.MS.MRG.3IMERG.20000602-S113000-E115959.0690.V06B.HDF5\n",
      "adding url: https://gpm1.gesdisc.eosdis.nasa.gov/data/GPM_L3/GPM_3IMERGHHL.06/2000/154/3B-HHR-L.MS.MRG.3IMERG.20000602-S120000-E122959.0720.V06B.HDF5\n",
      "adding url: https://gpm1.gesdisc.eosdis.nasa.gov/data/GPM_L3/GPM_3IMERGHHL.06/2000/154/3B-HHR-L.MS.MRG.3IMERG.20000602-S123000-E125959.0750.V06B.HDF5\n",
      "adding url: https://gpm1.gesdisc.eosdis.nasa.gov/data/GPM_L3/GPM_3IMERGHHL.06/2000/154/3B-HHR-L.MS.MRG.3IMERG.20000602-S130000-E132959.0780.V06B.HDF5\n",
      "adding url: https://gpm1.gesdisc.eosdis.nasa.gov/data/GPM_L3/GPM_3IMERGHHL.06/2000/154/3B-HHR-L.MS.MRG.3IMERG.20000602-S133000-E135959.0810.V06B.HDF5\n",
      "adding url: https://gpm1.gesdisc.eosdis.nasa.gov/data/GPM_L3/GPM_3IMERGHHL.06/2000/154/3B-HHR-L.MS.MRG.3IMERG.20000602-S140000-E142959.0840.V06B.HDF5\n",
      "adding url: https://gpm1.gesdisc.eosdis.nasa.gov/data/GPM_L3/GPM_3IMERGHHL.06/2000/154/3B-HHR-L.MS.MRG.3IMERG.20000602-S143000-E145959.0870.V06B.HDF5\n",
      "adding url: https://gpm1.gesdisc.eosdis.nasa.gov/data/GPM_L3/GPM_3IMERGHHL.06/2000/154/3B-HHR-L.MS.MRG.3IMERG.20000602-S150000-E152959.0900.V06B.HDF5\n",
      "adding url: https://gpm1.gesdisc.eosdis.nasa.gov/data/GPM_L3/GPM_3IMERGHHL.06/2000/154/3B-HHR-L.MS.MRG.3IMERG.20000602-S153000-E155959.0930.V06B.HDF5\n",
      "adding url: https://gpm1.gesdisc.eosdis.nasa.gov/data/GPM_L3/GPM_3IMERGHHL.06/2000/154/3B-HHR-L.MS.MRG.3IMERG.20000602-S160000-E162959.0960.V06B.HDF5\n",
      "adding url: https://gpm1.gesdisc.eosdis.nasa.gov/data/GPM_L3/GPM_3IMERGHHL.06/2000/154/3B-HHR-L.MS.MRG.3IMERG.20000602-S163000-E165959.0990.V06B.HDF5\n",
      "adding url: https://gpm1.gesdisc.eosdis.nasa.gov/data/GPM_L3/GPM_3IMERGHHL.06/2000/154/3B-HHR-L.MS.MRG.3IMERG.20000602-S170000-E172959.1020.V06B.HDF5\n",
      "adding url: https://gpm1.gesdisc.eosdis.nasa.gov/data/GPM_L3/GPM_3IMERGHHL.06/2000/154/3B-HHR-L.MS.MRG.3IMERG.20000602-S173000-E175959.1050.V06B.HDF5\n",
      "adding url: https://gpm1.gesdisc.eosdis.nasa.gov/data/GPM_L3/GPM_3IMERGHHL.06/2000/154/3B-HHR-L.MS.MRG.3IMERG.20000602-S180000-E182959.1080.V06B.HDF5\n",
      "adding url: https://gpm1.gesdisc.eosdis.nasa.gov/data/GPM_L3/GPM_3IMERGHHL.06/2000/154/3B-HHR-L.MS.MRG.3IMERG.20000602-S183000-E185959.1110.V06B.HDF5\n",
      "adding url: https://gpm1.gesdisc.eosdis.nasa.gov/data/GPM_L3/GPM_3IMERGHHL.06/2000/154/3B-HHR-L.MS.MRG.3IMERG.20000602-S190000-E192959.1140.V06B.HDF5\n",
      "adding url: https://gpm1.gesdisc.eosdis.nasa.gov/data/GPM_L3/GPM_3IMERGHHL.06/2000/154/3B-HHR-L.MS.MRG.3IMERG.20000602-S193000-E195959.1170.V06B.HDF5\n",
      "adding url: https://gpm1.gesdisc.eosdis.nasa.gov/data/GPM_L3/GPM_3IMERGHHL.06/2000/154/3B-HHR-L.MS.MRG.3IMERG.20000602-S200000-E202959.1200.V06B.HDF5\n",
      "adding url: https://gpm1.gesdisc.eosdis.nasa.gov/data/GPM_L3/GPM_3IMERGHHL.06/2000/154/3B-HHR-L.MS.MRG.3IMERG.20000602-S203000-E205959.1230.V06B.HDF5\n",
      "adding url: https://gpm1.gesdisc.eosdis.nasa.gov/data/GPM_L3/GPM_3IMERGHHL.06/2000/154/3B-HHR-L.MS.MRG.3IMERG.20000602-S210000-E212959.1260.V06B.HDF5\n",
      "adding url: https://gpm1.gesdisc.eosdis.nasa.gov/data/GPM_L3/GPM_3IMERGHHL.06/2000/154/3B-HHR-L.MS.MRG.3IMERG.20000602-S213000-E215959.1290.V06B.HDF5\n",
      "adding url: https://gpm1.gesdisc.eosdis.nasa.gov/data/GPM_L3/GPM_3IMERGHHL.06/2000/154/3B-HHR-L.MS.MRG.3IMERG.20000602-S220000-E222959.1320.V06B.HDF5\n",
      "adding url: https://gpm1.gesdisc.eosdis.nasa.gov/data/GPM_L3/GPM_3IMERGHHL.06/2000/154/3B-HHR-L.MS.MRG.3IMERG.20000602-S223000-E225959.1350.V06B.HDF5\n",
      "adding url: https://gpm1.gesdisc.eosdis.nasa.gov/data/GPM_L3/GPM_3IMERGHHL.06/2000/154/3B-HHR-L.MS.MRG.3IMERG.20000602-S230000-E232959.1380.V06B.HDF5\n",
      "adding url: https://gpm1.gesdisc.eosdis.nasa.gov/data/GPM_L3/GPM_3IMERGHHL.06/2000/154/3B-HHR-L.MS.MRG.3IMERG.20000602-S233000-E235959.1410.V06B.HDF5\n",
      "adding url: https://gpm1.gesdisc.eosdis.nasa.gov/data/GPM_L3/GPM_3IMERGHHL.06/2000/155/3B-HHR-L.MS.MRG.3IMERG.20000603-S000000-E002959.0000.V06B.HDF5\n",
      "adding url: https://gpm1.gesdisc.eosdis.nasa.gov/data/GPM_L3/GPM_3IMERGHHL.06/2000/155/3B-HHR-L.MS.MRG.3IMERG.20000603-S003000-E005959.0030.V06B.HDF5\n",
      "adding url: https://gpm1.gesdisc.eosdis.nasa.gov/data/GPM_L3/GPM_3IMERGHHL.06/2000/155/3B-HHR-L.MS.MRG.3IMERG.20000603-S010000-E012959.0060.V06B.HDF5\n",
      "adding url: https://gpm1.gesdisc.eosdis.nasa.gov/data/GPM_L3/GPM_3IMERGHHL.06/2000/155/3B-HHR-L.MS.MRG.3IMERG.20000603-S013000-E015959.0090.V06B.HDF5\n"
     ]
    }
   ],
   "source": [
    "url_list = []\n",
    "for i in range(0,np.shape(granules)[0]):\n",
    "    for element in granules[i]['links']:\n",
    "        if element['rel'] == 'http://esipfed.org/ns/fedsearch/1.1/data#':\n",
    "            print('adding url: ' + element['href'])\n",
    "            url_list.append(element['href'])\n",
    "            break\n",
    "    else:\n",
    "        print('no downloadable url found')\n"
   ]
  }
 ],
 "metadata": {
  "kernelspec": {
   "display_name": "Python 3.9.12 ('pangeoforge')",
   "language": "python",
   "name": "python3"
  },
  "language_info": {
   "codemirror_mode": {
    "name": "ipython",
    "version": 3
   },
   "file_extension": ".py",
   "mimetype": "text/x-python",
   "name": "python",
   "nbconvert_exporter": "python",
   "pygments_lexer": "ipython3",
   "version": "3.9.12"
  },
  "vscode": {
   "interpreter": {
    "hash": "8ce7711943d6803f681d677c4807e44205743a5a76534611d91348bf76216437"
   }
  }
 },
 "nbformat": 4,
 "nbformat_minor": 5
}
